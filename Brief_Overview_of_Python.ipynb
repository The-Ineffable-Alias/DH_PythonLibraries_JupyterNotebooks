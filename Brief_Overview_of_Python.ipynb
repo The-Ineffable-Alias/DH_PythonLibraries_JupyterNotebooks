{
  "nbformat": 4,
  "nbformat_minor": 0,
  "metadata": {
    "colab": {
      "name": "Brief Overview of Python.ipynb",
      "version": "0.3.2",
      "provenance": [],
      "collapsed_sections": []
    },
    "kernelspec": {
      "name": "python3",
      "display_name": "Python 3"
    }
  },
  "cells": [
    {
      "metadata": {
        "id": "kcFEh8cVpNMf",
        "colab_type": "text"
      },
      "cell_type": "markdown",
      "source": [
        "# Brief Overview of Python\n",
        "\n",
        "Just to get us on the same page this is a quick overview of the Python programming language and key points to help us understand Jupyter Notebooks and some of the libraries we look at."
      ]
    },
    {
      "metadata": {
        "id": "OqHhtX27pjtY",
        "colab_type": "text"
      },
      "cell_type": "markdown",
      "source": [
        "Python relies on whitespace to group levels of code. It is import that Python code is indented correctly in order for it to be understood and executed by the computer.\n",
        "Try running the cell below. We want it to print the phrase \"hello world!\".\n",
        "\n",
        "Note the error and the space before the `print` command. Delete the leading white space of the `print` line and then run the cell again."
      ]
    },
    {
      "metadata": {
        "id": "hqpwMSfBpfF6",
        "colab_type": "code",
        "colab": {}
      },
      "cell_type": "code",
      "source": [
        "a = 'hello world'\n",
        " print(a)"
      ],
      "execution_count": 0,
      "outputs": []
    },
    {
      "metadata": {
        "id": "Ij7_Wtc8piMN",
        "colab_type": "text"
      },
      "cell_type": "markdown",
      "source": [
        "## variables\n",
        "\n",
        "variables are used to store data in Python. We will use variables a lot in Jupyter Notebooks.\n",
        "\n",
        "A few things about variables:\n",
        "* must start with a letter, or undescore\n",
        "* cannot start with a number\n",
        "* the name must only contain alphanumeric characters and underscores\n",
        "* the names are case sensitive ('cat' does not equal 'Cat')\n",
        "* variables cannot be key Python terms (e.g. `print`)\n",
        "\n",
        "A variable is created the moment it is declared. So to make a variable all you need to do is name it and assign it some value.\n"
      ]
    },
    {
      "metadata": {
        "id": "2bPm0xDMr8AZ",
        "colab_type": "code",
        "colab": {}
      },
      "cell_type": "code",
      "source": [
        "# create a variable called 'name' and print it out. Hint: look at the code above."
      ],
      "execution_count": 0,
      "outputs": []
    },
    {
      "metadata": {
        "id": "2SjzJ-dJsTPB",
        "colab_type": "text"
      },
      "cell_type": "markdown",
      "source": [
        "## Data Types\n",
        "\n",
        "Working in Python it is important to understand the data types.\n",
        "\n",
        "### String\n",
        "\n",
        "When working in NLTK and other language processing libraries we will work a lot with strings. A string is simply character data and will always be surrounded by single or double quotes (there is no difference between using single vs double). Think of a string as plain text. \n",
        "\n",
        "One thing to keep in mind is that strings are nothing but character data. So the string \"4\" is not the same thing as the number 4.\n",
        "\n",
        "We can see this in the code cell below:"
      ]
    },
    {
      "metadata": {
        "id": "C1ThKnDntuP3",
        "colab_type": "code",
        "colab": {}
      },
      "cell_type": "code",
      "source": [
        "print ('4' + '4 \\n', 4 + 4)"
      ],
      "execution_count": 0,
      "outputs": []
    },
    {
      "metadata": {
        "id": "PsET7Oijt8mJ",
        "colab_type": "text"
      },
      "cell_type": "markdown",
      "source": [
        "### Numbers\n",
        "\n",
        "There are two types of of number data in Python that we will look at:\n",
        "* integer: a whole positive or negative number with out decimals (e.g. 1, 20543670, -34)\n",
        "* float: a positive or negative number containing at least one decimal (e.g. 1.34, -2.546, 2.0)\n",
        "\n",
        "We perform math and computation on these data types."
      ]
    },
    {
      "metadata": {
        "id": "qaGtt38dt3Zc",
        "colab_type": "code",
        "colab": {}
      },
      "cell_type": "code",
      "source": [
        "print (5*3)"
      ],
      "execution_count": 0,
      "outputs": []
    },
    {
      "metadata": {
        "id": "ZFafBnaUvfC0",
        "colab_type": "code",
        "colab": {}
      },
      "cell_type": "code",
      "source": [
        "print (1+2)"
      ],
      "execution_count": 0,
      "outputs": []
    },
    {
      "metadata": {
        "id": "URMu2xVcvhxA",
        "colab_type": "code",
        "colab": {}
      },
      "cell_type": "code",
      "source": [
        "print (2.1*(3+3.134))"
      ],
      "execution_count": 0,
      "outputs": []
    },
    {
      "metadata": {
        "id": "ZK2W0p9RvzYI",
        "colab_type": "text"
      },
      "cell_type": "markdown",
      "source": [
        "### Python Collections\n",
        "\n",
        "#### Lists\n",
        "Lists are collections of data that can be changed and reordered. For example we could store the numbers 1, 4, -1, -1.3, and 3.14 in a list. A list is notated with the square brackets. In Python a list containing the numbers above would look like this: <br/>\n",
        "`[1, 4, -1, -1.3, 3.14]`<br/>\n",
        "A list of animals would look like this:<br/>\n",
        "`['cat','bear','horse','dog']`\n",
        "\n",
        "We can assign these lists to a variable to refer to them.<br/>\n",
        "`animals = ['cat','bear','horse','dog']`\n",
        "\n",
        "To retrieve the values from a list we refer to the position of the item in the list, this is called the index, or index position. Note that in Python counts start at 0. So the first entry has the index position of 0.\n",
        "\n",
        "`print (animals[1])`<br/>\n",
        "`>>> 'bear'`\n",
        "\n",
        "Below, create a list of anything you like. Then practice accessing the data using the index position."
      ]
    },
    {
      "metadata": {
        "id": "_dcm4pWSvrwx",
        "colab_type": "code",
        "colab": {}
      },
      "cell_type": "code",
      "source": [
        "# type your list below this line. "
      ],
      "execution_count": 0,
      "outputs": []
    },
    {
      "metadata": {
        "id": "XeejpqO-yIGt",
        "colab_type": "text"
      },
      "cell_type": "markdown",
      "source": [
        "If we want to see more items from the list we can refer to multiple positions in a list with a colon. <br/>\n",
        "Note: the last number indicates the position of the index where the slice ends and does not return the item in that position.<br/>\n",
        "`print (animals[0:2])`<br/>\n",
        "`>>> ['cat','bear']`\n",
        "\n",
        "To reach the end of a list we can leave the stopping point blank:<br/>\n",
        "`print (animals[2:])`<br/>\n",
        "`>>> ['horse','dog']`"
      ]
    },
    {
      "metadata": {
        "id": "_Br2MoodyeLj",
        "colab_type": "code",
        "colab": {}
      },
      "cell_type": "code",
      "source": [
        "# Try retrieveing different items, or groups of items, out of the list below.\n",
        "animals = ['cat','bear','horse','dog']\n",
        "print(animals[2:])"
      ],
      "execution_count": 0,
      "outputs": []
    },
    {
      "metadata": {
        "id": "bnYqgdwW_vZq",
        "colab_type": "text"
      },
      "cell_type": "markdown",
      "source": [
        "Something useful about lists is that we can change a list by simply reassigning values by the index location. "
      ]
    },
    {
      "metadata": {
        "id": "NwLj_3D4_-FB",
        "colab_type": "code",
        "colab": {}
      },
      "cell_type": "code",
      "source": [
        "animals"
      ],
      "execution_count": 0,
      "outputs": []
    },
    {
      "metadata": {
        "id": "FqfkTVbOACa-",
        "colab_type": "code",
        "colab": {}
      },
      "cell_type": "code",
      "source": [
        "animals[0] = 'red'\n",
        "animals"
      ],
      "execution_count": 0,
      "outputs": []
    },
    {
      "metadata": {
        "id": "np3SmJG0z0cV",
        "colab_type": "text"
      },
      "cell_type": "markdown",
      "source": [
        "#### Sets\n",
        "\n",
        "Sets are unordered collections of data that can be added to or changed. For our purposes the key difference between a list and a set is that a set does not contain duplicate variables and the values are not indexed. \n",
        "\n",
        "Sets are made simlarly to lists but instead of using the squared brackets, sets are denoted with the curly brackets: `{}`\n",
        "\n",
        "Look at the code cell below and note the difference in the varaibles when printed."
      ]
    },
    {
      "metadata": {
        "id": "SJ3RtkC8yrIr",
        "colab_type": "code",
        "colab": {}
      },
      "cell_type": "code",
      "source": [
        "s = {'dog','bone','cat','string','dog'}\n",
        "l = ['dog','bone','cat','string','dog']\n",
        "print(s)\n",
        "print(l)"
      ],
      "execution_count": 0,
      "outputs": []
    },
    {
      "metadata": {
        "id": "N55d-pq61zCF",
        "colab_type": "code",
        "colab": {}
      },
      "cell_type": "code",
      "source": [
        "# `len` will give us the length, or the number of items, in a list or set.\n",
        "print(len(s))\n",
        "print(len(l))"
      ],
      "execution_count": 0,
      "outputs": []
    },
    {
      "metadata": {
        "id": "mf-2Q1LV5aRY",
        "colab_type": "text"
      },
      "cell_type": "markdown",
      "source": [
        "If we want to get values in a set we can iterate through it.\n",
        "\n"
      ]
    },
    {
      "metadata": {
        "id": "XVsnKNuo44rB",
        "colab_type": "code",
        "colab": {}
      },
      "cell_type": "code",
      "source": [
        "for word in s:\n",
        "  print (word)\n",
        "  \n",
        "  "
      ],
      "execution_count": 0,
      "outputs": []
    },
    {
      "metadata": {
        "id": "KWQJebs210Qm",
        "colab_type": "code",
        "colab": {}
      },
      "cell_type": "code",
      "source": [
        "# a set can be changed, but note the order is not significant. \n",
        "# In this case the list is sorted in alphabetical order but it doesn't have any significance to the set.\n",
        "s.add('mouse')\n",
        "print (s)"
      ],
      "execution_count": 0,
      "outputs": []
    },
    {
      "metadata": {
        "id": "1ttFRWk-9hwB",
        "colab_type": "text"
      },
      "cell_type": "markdown",
      "source": [
        "### Tuple\n",
        "A tuple is a collection of ordered and unchangeable data.\n",
        "\n",
        "Tuples are denoted with parantheses, or round brackets:`()`\n",
        "\n",
        "Once a tuple is created it cannot be changed unless there is a reassignment to the variable."
      ]
    },
    {
      "metadata": {
        "id": "Dbo7q9gJ2mpi",
        "colab_type": "code",
        "colab": {}
      },
      "cell_type": "code",
      "source": [
        "color = ('red','yellow','green','blue')\n",
        "print (color)"
      ],
      "execution_count": 0,
      "outputs": []
    },
    {
      "metadata": {
        "id": "UvE54P0H26Qk",
        "colab_type": "code",
        "colab": {}
      },
      "cell_type": "code",
      "source": [
        "color[0] "
      ],
      "execution_count": 0,
      "outputs": []
    },
    {
      "metadata": {
        "id": "uPK4D7Pf-jjq",
        "colab_type": "code",
        "colab": {}
      },
      "cell_type": "code",
      "source": [
        "color[0] = 'cat'\n"
      ],
      "execution_count": 0,
      "outputs": []
    },
    {
      "metadata": {
        "id": "kAktru38ATvX",
        "colab_type": "code",
        "colab": {}
      },
      "cell_type": "code",
      "source": [
        "print(color)"
      ],
      "execution_count": 0,
      "outputs": []
    },
    {
      "metadata": {
        "id": "j1ELJuKTAv-i",
        "colab_type": "text"
      },
      "cell_type": "markdown",
      "source": [
        "### DIctionary\n",
        "Finally (for our purposes)  a dictionary is a collection of unordered, changeable, and indexed data, with key-value pairs. \n",
        "\n",
        "A dictionary is denoted with curly brackets:`{}` and key-value pairs indicated by `:`"
      ]
    },
    {
      "metadata": {
        "id": "VpDjajkc_Wax",
        "colab_type": "code",
        "colab": {}
      },
      "cell_type": "code",
      "source": [
        "my_dict = {\n",
        "    'cat':'string',\n",
        "    'dog':'bone'\n",
        "}"
      ],
      "execution_count": 0,
      "outputs": []
    },
    {
      "metadata": {
        "id": "ibdh9U7dCKRb",
        "colab_type": "text"
      },
      "cell_type": "markdown",
      "source": [
        "There are many ways to access the values in the dictionary."
      ]
    },
    {
      "metadata": {
        "id": "rOgfPJUzCIYH",
        "colab_type": "code",
        "colab": {}
      },
      "cell_type": "code",
      "source": [
        "my_dict['cat']"
      ],
      "execution_count": 0,
      "outputs": []
    },
    {
      "metadata": {
        "id": "3DqAS0qmCQWy",
        "colab_type": "code",
        "colab": {}
      },
      "cell_type": "code",
      "source": [
        "my_dict.get('dog')"
      ],
      "execution_count": 0,
      "outputs": []
    },
    {
      "metadata": {
        "id": "oMqgru5sDCH3",
        "colab_type": "code",
        "colab": {}
      },
      "cell_type": "code",
      "source": [
        "for val in my_dict:\n",
        "  print(val)"
      ],
      "execution_count": 0,
      "outputs": []
    },
    {
      "metadata": {
        "id": "_A0iKaZdCnIR",
        "colab_type": "text"
      },
      "cell_type": "markdown",
      "source": [
        "And the dictionary can have values added, changed and deleted"
      ]
    },
    {
      "metadata": {
        "id": "CEDGp-54CZ2l",
        "colab_type": "code",
        "colab": {}
      },
      "cell_type": "code",
      "source": [
        "my_dict['cat'] = 'plant'\n",
        "my_dict"
      ],
      "execution_count": 0,
      "outputs": []
    },
    {
      "metadata": {
        "id": "oheCdJhFC4IT",
        "colab_type": "code",
        "colab": {}
      },
      "cell_type": "code",
      "source": [
        "my_dict['mouse'] = 'cheese'\n",
        "my_dict"
      ],
      "execution_count": 0,
      "outputs": []
    },
    {
      "metadata": {
        "id": "ibaFK0OoC9kq",
        "colab_type": "code",
        "colab": {}
      },
      "cell_type": "code",
      "source": [
        "del my_dict['cat']\n",
        "my_dict"
      ],
      "execution_count": 0,
      "outputs": []
    },
    {
      "metadata": {
        "id": "AE-kEVrFDVMt",
        "colab_type": "code",
        "colab": {}
      },
      "cell_type": "code",
      "source": [
        "my_dict.keys()"
      ],
      "execution_count": 0,
      "outputs": []
    },
    {
      "metadata": {
        "id": "MYNrr72tDbvD",
        "colab_type": "code",
        "colab": {}
      },
      "cell_type": "code",
      "source": [
        "my_dict.values()"
      ],
      "execution_count": 0,
      "outputs": []
    },
    {
      "metadata": {
        "id": "0VafnYgBMSaU",
        "colab_type": "text"
      },
      "cell_type": "markdown",
      "source": [
        "## Conditional Statements and For Loops\n",
        "\n",
        "### Conditional statements\n",
        "Python uses \"conditional statements\" to evaluate data and then execute an action based on the result of that evaluation. The basic construction is: *if this statement is true then do this action*\n",
        "\n",
        "Python only cares if the statement is true or false. For example:  2+2 = 4. If this is true say \"you are right\"\n",
        "\n",
        "In python this kind of statement is writen this way:<br/>\n",
        "`if [my condition]:`\n",
        "> `[do this action]`\n",
        "\n",
        "look at the code below to explore how conditional statements work. Change the conditional statement to see how the code responds. \n",
        "\n",
        "Here is the notation for some basic comparisons:\n",
        "* Equals: a == b\n",
        "* Not Equals: a != b\n",
        "* Less than: a < b\n",
        "* Less than or equal to: a <= b\n",
        "* Greater than: a > b\n",
        "* Greater than or equal to: a >= b"
      ]
    },
    {
      "metadata": {
        "id": "B-ix1ZoADgax",
        "colab_type": "code",
        "colab": {}
      },
      "cell_type": "code",
      "source": [
        "if 1 < 2:\n",
        "  print ('this statement is true')\n",
        "  \n",
        "print('^^^^^^^^^^^^^^^^^^^^^^')"
      ],
      "execution_count": 0,
      "outputs": []
    },
    {
      "metadata": {
        "id": "Auu5P5R6Qk5s",
        "colab_type": "text"
      },
      "cell_type": "markdown",
      "source": [
        "What can we do if the statement is false?\n",
        "\n",
        "There are two options.\n",
        "1. We just ignore the action and continue as if it was never accounted. i.e. do nothing. \n",
        "2. Offer an alternative to execute in the case that the stetement is False by including an `else` action.\n",
        "\n",
        "\n",
        "**Note: Observe how the code is indented to organize the actions. **"
      ]
    },
    {
      "metadata": {
        "id": "pxgpJfVjQB_s",
        "colab_type": "code",
        "colab": {}
      },
      "cell_type": "code",
      "source": [
        "a = 2\n",
        "b = 4\n",
        "if a == b:\n",
        "  print ('These are the same')\n",
        "else:\n",
        "  print('These are different')"
      ],
      "execution_count": 0,
      "outputs": []
    },
    {
      "metadata": {
        "id": "WiGn_x9ERt79",
        "colab_type": "text"
      },
      "cell_type": "markdown",
      "source": [
        "### For Loops\n",
        "\n",
        "A for loop is used to go through a sequence of data (e.g. a list, tuple, set, dictionary, and even a string).\n",
        "\n",
        "it is written using an iterator value that tracks the place of the loop within the container "
      ]
    },
    {
      "metadata": {
        "id": "sg3xWvoXRWGM",
        "colab_type": "code",
        "colab": {}
      },
      "cell_type": "code",
      "source": [
        "# create a list of numbers to iterate through with a foor loop\n",
        "numbers = [1,4,6,7]"
      ],
      "execution_count": 0,
      "outputs": []
    },
    {
      "metadata": {
        "id": "RbriLc8XSmxG",
        "colab_type": "code",
        "colab": {}
      },
      "cell_type": "code",
      "source": [
        "# use a loop to square each number and show the result\n",
        "for n in numbers:\n",
        "  print(n*n)"
      ],
      "execution_count": 0,
      "outputs": []
    },
    {
      "metadata": {
        "id": "4yafZneZTAyP",
        "colab_type": "code",
        "colab": {}
      },
      "cell_type": "code",
      "source": [
        "# try this on a list of strings\n",
        "animals = ['cat','dog','bear','fish']\n",
        "for a in animals:\n",
        "  word = a.upper()\n",
        "  print(word)"
      ],
      "execution_count": 0,
      "outputs": []
    },
    {
      "metadata": {
        "id": "XrCC8Q0bTdYP",
        "colab_type": "text"
      },
      "cell_type": "markdown",
      "source": [
        "***Note: The actual values in the list have not changed. This does not do anything to the list but it uses the list as an input value*** "
      ]
    },
    {
      "metadata": {
        "id": "YODaSrE3TPy3",
        "colab_type": "code",
        "colab": {}
      },
      "cell_type": "code",
      "source": [
        "print(numbers)\n",
        "print(animals)"
      ],
      "execution_count": 0,
      "outputs": []
    },
    {
      "metadata": {
        "id": "Ik5CICmrUXXK",
        "colab_type": "text"
      },
      "cell_type": "markdown",
      "source": [
        "The if statement and the for loop can be used together to execute more complex actions, particularly when evaluating containers of data."
      ]
    },
    {
      "metadata": {
        "id": "jVN2LM-sT04D",
        "colab_type": "code",
        "colab": {}
      },
      "cell_type": "code",
      "source": [
        "# combine a for loop and an if statement to find all the numbers less than 5.\n",
        "\n",
        "for n in numbers:\n",
        "  if n < 5:\n",
        "    print (n)"
      ],
      "execution_count": 0,
      "outputs": []
    },
    {
      "metadata": {
        "id": "scoDe0mqVTJd",
        "colab_type": "code",
        "colab": {}
      },
      "cell_type": "code",
      "source": [
        "# we can use this feature to create a new list that contains the items we are interested in.\n",
        "\n",
        "colors = ['gold','green','blue','red','yellow']\n",
        "g_colors = []\n",
        "for c in colors:\n",
        "  if c[0] == 'g':\n",
        "    g_colors.append(c)\n",
        "    \n",
        "print(g_colors)"
      ],
      "execution_count": 0,
      "outputs": []
    },
    {
      "metadata": {
        "id": "FTa3-cHZWErj",
        "colab_type": "text"
      },
      "cell_type": "markdown",
      "source": [
        "## Functions\n",
        "\n",
        "Finally we can combine all of these features to create complex actions that can be reused to perform regular tasks.\n",
        "\n",
        "A function is created with the key word `def` followed by the name of the function and parantheses. A function can accept input in the form of arguments that are passed into the function.\n",
        "\n",
        "`def [function name]([argument]):`\n",
        ">`[code to execute]`\n",
        "\n",
        "To use a function, or to \"call\" a function, you simply use the name with the parenthese and pass in any necessary arguments. \n",
        "\n",
        "Let's first look at a very simple function that does not require any inputs."
      ]
    },
    {
      "metadata": {
        "id": "c-Yq3hulWAkd",
        "colab_type": "code",
        "colab": {}
      },
      "cell_type": "code",
      "source": [
        "# at the end of this cell type 'greeting()' to call the function.\n",
        "def greeting():\n",
        "  print('Hello There!')\n",
        "  \n"
      ],
      "execution_count": 0,
      "outputs": []
    },
    {
      "metadata": {
        "id": "J1k1iH6GXjty",
        "colab_type": "code",
        "colab": {}
      },
      "cell_type": "code",
      "source": [
        "# Now let's pass in an argument and see how we can make the function more versatile\n",
        "def greeting(name):\n",
        "  print('Hello There,', name + '!')"
      ],
      "execution_count": 0,
      "outputs": []
    },
    {
      "metadata": {
        "id": "VziQBd5NX6L5",
        "colab_type": "code",
        "colab": {}
      },
      "cell_type": "code",
      "source": [
        "# now we create a variable and pass that into the function. \n",
        "my_name = 'Derek'\n",
        "greeting(my_name)"
      ],
      "execution_count": 0,
      "outputs": []
    },
    {
      "metadata": {
        "id": "miwdTbOMYLW-",
        "colab_type": "code",
        "colab": {}
      },
      "cell_type": "code",
      "source": [
        "# now we can use this function to greet anyone once we have a variable for the name.\n",
        "your_name = ''\n",
        "greeting(your_name)"
      ],
      "execution_count": 0,
      "outputs": []
    },
    {
      "metadata": {
        "id": "QOY8PzOSYzlx",
        "colab_type": "code",
        "colab": {}
      },
      "cell_type": "code",
      "source": [
        "# or we can just pass in a string\n",
        "greeting('people')"
      ],
      "execution_count": 0,
      "outputs": []
    },
    {
      "metadata": {
        "id": "EBnbPzQhZN52",
        "colab_type": "code",
        "colab": {}
      },
      "cell_type": "code",
      "source": [
        "# useful for executing repetitive tasks. Compute the number of seconds in a given number of minutes.\n",
        "def seconds(min):\n",
        "  sec = min*60\n",
        "  print('There are', sec,'seconds in', min,'minutes.')\n",
        "\n",
        "seconds(24)"
      ],
      "execution_count": 0,
      "outputs": []
    },
    {
      "metadata": {
        "id": "Xrc4B0ajYvxO",
        "colab_type": "text"
      },
      "cell_type": "markdown",
      "source": [
        "Now let's combine everything we have leanred to create a function that will compare two lists and return a dictionary that tells us what words appear in both lists and how many times.\n",
        "\n",
        "There are lots of ways to write this code. I am going to focus on a method that relies on the aspects of python covered in this notebook."
      ]
    },
    {
      "metadata": {
        "id": "NXZluOIMYcRL",
        "colab_type": "code",
        "colab": {}
      },
      "cell_type": "code",
      "source": [
        "# create the dictionary to hold the results we want to see\n",
        "word_list = {}\n",
        "\n",
        "def check_list(ls1,ls2):\n",
        "  # remove any duplicates from the list to find matches in both lists\n",
        "  setx = set(ls1)\n",
        "  sety = set(ls2)\n",
        "  both = []\n",
        "  for x in setx:\n",
        "    for y in sety:\n",
        "      if x == y:\n",
        "        word_list[x] = 0\n",
        "  all_words = ls1 + ls2\n",
        "  for k in word_list.keys():\n",
        "    for w in all_words:\n",
        "      if k == w:\n",
        "        word_list[k] += 1\n",
        "  print(word_list)\n",
        "        \n",
        "    \n",
        "    \n",
        "   \n",
        "      \n",
        "  "
      ],
      "execution_count": 0,
      "outputs": []
    },
    {
      "metadata": {
        "id": "jKQ23VLraoDt",
        "colab_type": "code",
        "colab": {}
      },
      "cell_type": "code",
      "source": [
        "animals = ['cat','dog','bird','cat','bear']\n",
        "pets = ['dog','cat','mouse','dog','bird']\n",
        "\n",
        "check_list(animals,pets)"
      ],
      "execution_count": 0,
      "outputs": []
    },
    {
      "metadata": {
        "id": "IGSkTb0rfp21",
        "colab_type": "code",
        "colab": {}
      },
      "cell_type": "code",
      "source": [
        ""
      ],
      "execution_count": 0,
      "outputs": []
    }
  ]
}